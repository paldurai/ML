{
  "nbformat": 4,
  "nbformat_minor": 0,
  "metadata": {
    "colab": {
      "name": "Assignment 1 a.ipynb",
      "provenance": []
    },
    "kernelspec": {
      "name": "python3",
      "display_name": "Python 3"
    }
  },
  "cells": [
    {
      "cell_type": "markdown",
      "metadata": {
        "id": "qCvMX1Jb_gjO",
        "colab_type": "text"
      },
      "source": [
        "# Assignment Program 4:\n",
        "  4.Write a program which accepts a sequence of comma-separated numbers from console and generate a list. "
      ]
    },
    {
      "cell_type": "code",
      "metadata": {
        "id": "XY7vzylz_cqE",
        "colab_type": "code",
        "colab": {
          "base_uri": "https://localhost:8080/",
          "height": 51
        },
        "outputId": "55e178e9-63c1-44ea-e82b-4846f5260779"
      },
      "source": [
        "Values = input(\"Enter Some Comma Seperated Numbers :\")\n",
        "List = Values.split(\",\")\n",
        "print(\"List : \",List)"
      ],
      "execution_count": 3,
      "outputs": [
        {
          "output_type": "stream",
          "text": [
            "Enter Some Comma Seperated Numbers :1,2,3,4,5,6,7,8,9,10\n",
            "List :  ['1', '2', '3', '4', '5', '6', '7', '8', '9', '10']\n"
          ],
          "name": "stdout"
        }
      ]
    },
    {
      "cell_type": "markdown",
      "metadata": {
        "id": "Opt4BrPpBAFi",
        "colab_type": "text"
      },
      "source": [
        "# Assignment Program 5:\n",
        "  Write a Python program to construct the following pattern, using a nested for loop.\n",
        "\n",
        "* \n",
        "* * \n",
        "* * * \n",
        "* * * * \n",
        "* * * * * \n",
        "* * * * \n",
        "* * * \n",
        "* * \n",
        "*"
      ]
    },
    {
      "cell_type": "code",
      "metadata": {
        "id": "82C2jiOeBE-o",
        "colab_type": "code",
        "colab": {
          "base_uri": "https://localhost:8080/",
          "height": 187
        },
        "outputId": "190819b9-45cd-448d-8652-9b019664d2e4"
      },
      "source": [
        "n=5;\n",
        "for i in range(n):\n",
        "    for j in range(i):\n",
        "        print ('* ', end=\"\")\n",
        "    print('')\n",
        "\n",
        "for i in range(n,0,-1):\n",
        "    for j in range(i):\n",
        "        print('* ', end=\"\")\n",
        "    print('')"
      ],
      "execution_count": 6,
      "outputs": [
        {
          "output_type": "stream",
          "text": [
            "\n",
            "* \n",
            "* * \n",
            "* * * \n",
            "* * * * \n",
            "* * * * * \n",
            "* * * * \n",
            "* * * \n",
            "* * \n",
            "* \n"
          ],
          "name": "stdout"
        }
      ]
    },
    {
      "cell_type": "markdown",
      "metadata": {
        "id": "XDR4qYdjCGOJ",
        "colab_type": "text"
      },
      "source": [
        "# Assignment Program 6:\n",
        " Write a Python program to reverse a word after accepting the input from the user. \n",
        "Sample Output: \n",
        "Input word: Ineuron \n",
        "Output: noruenI \n"
      ]
    },
    {
      "cell_type": "code",
      "metadata": {
        "id": "KTtE8esRCNZa",
        "colab_type": "code",
        "colab": {
          "base_uri": "https://localhost:8080/",
          "height": 51
        },
        "outputId": "3f97f334-6cbd-446e-8f4e-9f7c5f10e63e"
      },
      "source": [
        "word = input(\"Enter a word to print in reverse :\")\n",
        "for i in range(len(word)-1,-1,-1):\n",
        "  print(word[i],end=\"\")\n",
        "print('')"
      ],
      "execution_count": 10,
      "outputs": [
        {
          "output_type": "stream",
          "text": [
            "Enter a word to print in reverse :Ineuron\n",
            "noruenI\n"
          ],
          "name": "stdout"
        }
      ]
    },
    {
      "cell_type": "markdown",
      "metadata": {
        "id": "ZSGtP7A1DgwL",
        "colab_type": "text"
      },
      "source": [
        "# Assignment Program 7:\n",
        "  Write a Python Program to print the given string in the format specified in the sample output. \n",
        "WE, THE PEOPLE OF INDIA, having solemnly resolved to constitute India into a SOVEREIGN, SOCIALIST, SECULAR, DEMOCRATIC REPUBLIC and to secure to all its citizens \n",
        "Sample Output: \n",
        "\n",
        "WE, THE PEOPLE OF INDIA, <br/>\n",
        "  &nbsp;&nbsp;having solemnly resolved to constitute India into a SOVEREIGN, !    SOCIALIST, SECULAR, DEMOCRATIC REPUBLIC \n",
        "\n",
        "    and to secure to all its citizens \n"
      ]
    },
    {
      "cell_type": "code",
      "metadata": {
        "id": "vf6-EJGGEmpi",
        "colab_type": "code",
        "colab": {
          "base_uri": "https://localhost:8080/",
          "height": 102
        },
        "outputId": "f43da685-8336-4417-bbdd-66d0da5725c1"
      },
      "source": [
        "print(\"WE, THE PEOPLE OF INDIA, \\n\\thaving solemnly resolved to constitute India int a SOVERIGN, ! \\n\\t\\t SOCIALIST, SECULAR,DEMOCRATIC REBUBLIC \\n\\n\\t\\t and to secure to all its citizens\")"
      ],
      "execution_count": 13,
      "outputs": [
        {
          "output_type": "stream",
          "text": [
            "WE, THE PEOPLE OF INDIA, \n",
            "\thaving solemnly resolved to constitute India int a SOVERIGN, ! \n",
            "\t\t SOCIALIST, SECULAR,DEMOCRATIC REBUBLIC \n",
            "\n",
            "\t\t and to secure to all its citizens\n"
          ],
          "name": "stdout"
        }
      ]
    }
  ]
}