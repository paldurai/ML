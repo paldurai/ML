{
  "nbformat": 4,
  "nbformat_minor": 0,
  "metadata": {
    "colab": {
      "name": "python Assignment 4.ipynb",
      "provenance": [],
      "collapsed_sections": []
    },
    "kernelspec": {
      "name": "python3",
      "display_name": "Python 3"
    }
  },
  "cells": [
    {
      "cell_type": "markdown",
      "metadata": {
        "id": "iAMOGC-WedpN",
        "colab_type": "text"
      },
      "source": [
        "1.1 Write a Python Program(with class concepts) to find the area of the triangle using the below formula. \n",
        "\n",
        "area = (s*(s-a)*(s-b)*(s-c)) ** 0.5 \n",
        "\n",
        "Function to take the length of the sides of triangle from user should be defined in the parent class and function to calculate the area should be defined in subclass. \n",
        "\n"
      ]
    },
    {
      "cell_type": "code",
      "metadata": {
        "id": "AlIniTZEecZa",
        "colab_type": "code",
        "colab": {}
      },
      "source": [
        "class parent:\n",
        "  def __init__(self, a,b,c):\n",
        "    self.a=a\n",
        "    self.b=b\n",
        "    self.c=c\n",
        "\n",
        "  def print_side_values(self):\n",
        "    print(\"Side values of a = \"+str(self.a)+\" b = \"+str(self.b)+\" c = \"+str(self.c))\n",
        "\n",
        "class Triangle(parent):\n",
        "  def __init__(self,m,n,o):\n",
        "    parent.__init__(self,m,n,o)\n",
        "    \n",
        "\n",
        "  def get_area(self):\n",
        "    x,y,z = self.a,self.b,self.c\n",
        "    s = (x + y + z) / 2\n",
        "    return (s*(s-x)*(s-y)*(s-z))**0.5 "
      ],
      "execution_count": 0,
      "outputs": []
    },
    {
      "cell_type": "code",
      "metadata": {
        "id": "WUnK6mN8ex_W",
        "colab_type": "code",
        "colab": {
          "base_uri": "https://localhost:8080/",
          "height": 51
        },
        "outputId": "b8b631d8-ebf8-48ef-d82f-6ba581eaa563"
      },
      "source": [
        "call_tri = Triangle(3,4,5)\n",
        "print(call_tri.get_area())\n",
        "call_tri.print_side_values()"
      ],
      "execution_count": 2,
      "outputs": [
        {
          "output_type": "stream",
          "text": [
            "6.0\n",
            "Side values of a = 3 b = 4 c = 5\n"
          ],
          "name": "stdout"
        }
      ]
    },
    {
      "cell_type": "markdown",
      "metadata": {
        "id": "7ZyNUdxQfL9K",
        "colab_type": "text"
      },
      "source": [
        "1.2 Write a function filter_long_words() that takes a list of words and an integer n and returns the list of words that are longer than n. "
      ]
    },
    {
      "cell_type": "code",
      "metadata": {
        "id": "4hLk_uT2e4Zi",
        "colab_type": "code",
        "colab": {}
      },
      "source": [
        "def filter_long_words(long_word, length):\n",
        "  return (word for word in long_word if len(word) > length)"
      ],
      "execution_count": 0,
      "outputs": []
    },
    {
      "cell_type": "code",
      "metadata": {
        "id": "oH-lJGVNfYgp",
        "colab_type": "code",
        "colab": {}
      },
      "source": [
        "inputword = \"Hello this is paldurai from chennai\""
      ],
      "execution_count": 0,
      "outputs": []
    },
    {
      "cell_type": "code",
      "metadata": {
        "id": "ApDQY-t3fRuf",
        "colab_type": "code",
        "colab": {
          "base_uri": "https://localhost:8080/",
          "height": 34
        },
        "outputId": "5ed5c549-32e9-40f5-b0cd-19c6fe677e5a"
      },
      "source": [
        "list(filter_long_words(inputword.split(),4))"
      ],
      "execution_count": 6,
      "outputs": [
        {
          "output_type": "execute_result",
          "data": {
            "text/plain": [
              "['Hello', 'paldurai', 'chennai']"
            ]
          },
          "metadata": {
            "tags": []
          },
          "execution_count": 6
        }
      ]
    },
    {
      "cell_type": "markdown",
      "metadata": {
        "id": "_lySwsFIjHaC",
        "colab_type": "text"
      },
      "source": [
        "2.1 Write a Python program using function concept that maps list of words into a list of integers representing the lengths of the corresponding words. \n",
        "\n",
        "**Hint:** If a list [ ab,cde,erty] is passed on to the python function output should come as [2,3,4] \n",
        "Here 2,3 and 4 are the lengths of the words in the list. \n"
      ]
    },
    {
      "cell_type": "code",
      "metadata": {
        "id": "8OZ1tFdKfULH",
        "colab_type": "code",
        "colab": {}
      },
      "source": [
        "# 1.\n",
        "def length_of_list_words(input_word):  \n",
        "  return (len(length) for length in input_word)\n"
      ],
      "execution_count": 0,
      "outputs": []
    },
    {
      "cell_type": "code",
      "metadata": {
        "id": "bG_KEWWwjUx-",
        "colab_type": "code",
        "colab": {
          "base_uri": "https://localhost:8080/",
          "height": 34
        },
        "outputId": "028d91b4-08c1-4441-aec6-253333839874"
      },
      "source": [
        "list(length_of_list_words([\"hello\",\"this\",\"is\",\"pal\"]))"
      ],
      "execution_count": 8,
      "outputs": [
        {
          "output_type": "execute_result",
          "data": {
            "text/plain": [
              "[5, 4, 2, 3]"
            ]
          },
          "metadata": {
            "tags": []
          },
          "execution_count": 8
        }
      ]
    },
    {
      "cell_type": "code",
      "metadata": {
        "id": "i1WpNyUVjXMy",
        "colab_type": "code",
        "colab": {}
      },
      "source": [
        "#2.\n",
        "\n",
        "def length_of_list_words1(input_word):\n",
        "  length =[]\n",
        "  for i in input_word:\n",
        "    length.append(len(i))\n",
        "  print(length)\n",
        "  "
      ],
      "execution_count": 0,
      "outputs": []
    },
    {
      "cell_type": "code",
      "metadata": {
        "id": "5Dwjj9K0j4i7",
        "colab_type": "code",
        "colab": {
          "base_uri": "https://localhost:8080/",
          "height": 34
        },
        "outputId": "fad2436c-1a6d-43ae-982e-c2e4e14195ad"
      },
      "source": [
        "length_of_list_words1([\"hello\",\"this\",\"is\",\"pal\"])"
      ],
      "execution_count": 10,
      "outputs": [
        {
          "output_type": "stream",
          "text": [
            "[5, 4, 2, 3]\n"
          ],
          "name": "stdout"
        }
      ]
    },
    {
      "cell_type": "markdown",
      "metadata": {
        "id": "QFj7Wzv_lEkO",
        "colab_type": "text"
      },
      "source": [
        "2.2 Write a Python function which takes a character (i.e. a string of length 1) and returns True if it is a vowel, False otherwise. "
      ]
    },
    {
      "cell_type": "code",
      "metadata": {
        "id": "e9qa5q5mj7CA",
        "colab_type": "code",
        "colab": {}
      },
      "source": [
        "def is_Vowel(character):\n",
        "  Vowel_values =\"aeiou\"\n",
        "  if (character in Vowel_values):\n",
        "    return True\n",
        "  else:\n",
        "    return False"
      ],
      "execution_count": 0,
      "outputs": []
    },
    {
      "cell_type": "code",
      "metadata": {
        "id": "MU3geeEOlMeo",
        "colab_type": "code",
        "colab": {
          "base_uri": "https://localhost:8080/",
          "height": 34
        },
        "outputId": "47dfa375-a8c6-48c1-9152-23f23a0e414f"
      },
      "source": [
        "is_Vowel('a')"
      ],
      "execution_count": 12,
      "outputs": [
        {
          "output_type": "execute_result",
          "data": {
            "text/plain": [
              "True"
            ]
          },
          "metadata": {
            "tags": []
          },
          "execution_count": 12
        }
      ]
    },
    {
      "cell_type": "code",
      "metadata": {
        "id": "QydzC0WrlOoe",
        "colab_type": "code",
        "colab": {
          "base_uri": "https://localhost:8080/",
          "height": 34
        },
        "outputId": "60463d49-647d-47e7-9e7d-91f2fd2a1250"
      },
      "source": [
        "is_Vowel('e')"
      ],
      "execution_count": 13,
      "outputs": [
        {
          "output_type": "execute_result",
          "data": {
            "text/plain": [
              "True"
            ]
          },
          "metadata": {
            "tags": []
          },
          "execution_count": 13
        }
      ]
    },
    {
      "cell_type": "code",
      "metadata": {
        "id": "GD93D85DlQcj",
        "colab_type": "code",
        "colab": {
          "base_uri": "https://localhost:8080/",
          "height": 34
        },
        "outputId": "de648d0d-ecef-44f1-b86d-af653db259cf"
      },
      "source": [
        "is_Vowel('t')"
      ],
      "execution_count": 14,
      "outputs": [
        {
          "output_type": "execute_result",
          "data": {
            "text/plain": [
              "False"
            ]
          },
          "metadata": {
            "tags": []
          },
          "execution_count": 14
        }
      ]
    },
    {
      "cell_type": "code",
      "metadata": {
        "id": "8U1JaR9wlSY2",
        "colab_type": "code",
        "colab": {
          "base_uri": "https://localhost:8080/",
          "height": 34
        },
        "outputId": "2b2b7c11-80ac-4226-ef74-36ab5a2c0497"
      },
      "source": [
        "is_Vowel('i')"
      ],
      "execution_count": 15,
      "outputs": [
        {
          "output_type": "execute_result",
          "data": {
            "text/plain": [
              "True"
            ]
          },
          "metadata": {
            "tags": []
          },
          "execution_count": 15
        }
      ]
    },
    {
      "cell_type": "code",
      "metadata": {
        "id": "a59ZGFJ4lUu_",
        "colab_type": "code",
        "colab": {
          "base_uri": "https://localhost:8080/",
          "height": 34
        },
        "outputId": "633bccd4-b71a-4e25-bedb-4c0896fcb220"
      },
      "source": [
        "is_Vowel('o')"
      ],
      "execution_count": 16,
      "outputs": [
        {
          "output_type": "execute_result",
          "data": {
            "text/plain": [
              "True"
            ]
          },
          "metadata": {
            "tags": []
          },
          "execution_count": 16
        }
      ]
    },
    {
      "cell_type": "code",
      "metadata": {
        "id": "DPoh_sDmlXBD",
        "colab_type": "code",
        "colab": {
          "base_uri": "https://localhost:8080/",
          "height": 34
        },
        "outputId": "d03792b6-f4b5-4c71-d8ab-d2bb12c8db35"
      },
      "source": [
        "is_Vowel('u')"
      ],
      "execution_count": 17,
      "outputs": [
        {
          "output_type": "execute_result",
          "data": {
            "text/plain": [
              "True"
            ]
          },
          "metadata": {
            "tags": []
          },
          "execution_count": 17
        }
      ]
    },
    {
      "cell_type": "code",
      "metadata": {
        "id": "UgDqnvXolZIY",
        "colab_type": "code",
        "colab": {
          "base_uri": "https://localhost:8080/",
          "height": 34
        },
        "outputId": "0a0ed75f-1f8b-4e33-9b18-7f40fd931c8b"
      },
      "source": [
        "is_Vowel('b')"
      ],
      "execution_count": 18,
      "outputs": [
        {
          "output_type": "execute_result",
          "data": {
            "text/plain": [
              "False"
            ]
          },
          "metadata": {
            "tags": []
          },
          "execution_count": 18
        }
      ]
    },
    {
      "cell_type": "code",
      "metadata": {
        "id": "pKK3P5gYla5O",
        "colab_type": "code",
        "colab": {}
      },
      "source": [
        ""
      ],
      "execution_count": 0,
      "outputs": []
    }
  ]
}