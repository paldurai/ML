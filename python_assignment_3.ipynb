{
  "nbformat": 4,
  "nbformat_minor": 0,
  "metadata": {
    "colab": {
      "name": "python assignment 3.ipynb",
      "provenance": [],
      "collapsed_sections": []
    },
    "kernelspec": {
      "name": "python3",
      "display_name": "Python 3"
    }
  },
  "cells": [
    {
      "cell_type": "markdown",
      "metadata": {
        "id": "hyW6B9YqCC0E",
        "colab_type": "text"
      },
      "source": [
        "1.1 Write a Python Program to implement your own myreduce() function which works exactly like Python's built-in function reduce() "
      ]
    },
    {
      "cell_type": "code",
      "metadata": {
        "id": "vLnifBNb7HnO",
        "colab_type": "code",
        "colab": {}
      },
      "source": [
        "def myreduce(myfunc, sequence):\n",
        "  result = sequence[0]\n",
        "  for i in sequence[1:]:\n",
        "    result = myfunc(result,i)\n",
        "\n",
        "  return result"
      ],
      "execution_count": 0,
      "outputs": []
    },
    {
      "cell_type": "code",
      "metadata": {
        "id": "xrNJbRGOCk5b",
        "colab_type": "code",
        "colab": {}
      },
      "source": [
        "def sum(x,y):\n",
        "  return x+y"
      ],
      "execution_count": 0,
      "outputs": []
    },
    {
      "cell_type": "code",
      "metadata": {
        "id": "yOlH6mIhCp_9",
        "colab_type": "code",
        "colab": {
          "base_uri": "https://localhost:8080/",
          "height": 34
        },
        "outputId": "03562c45-ce35-4030-e44d-fc8605e090dc"
      },
      "source": [
        "myreduce(sum,[1,2,3,4,5])"
      ],
      "execution_count": 3,
      "outputs": [
        {
          "output_type": "execute_result",
          "data": {
            "text/plain": [
              "15"
            ]
          },
          "metadata": {
            "tags": []
          },
          "execution_count": 3
        }
      ]
    },
    {
      "cell_type": "code",
      "metadata": {
        "id": "IAz52gMCCxVl",
        "colab_type": "code",
        "colab": {}
      },
      "source": [
        "def sub(x,y):\n",
        "  return x-y"
      ],
      "execution_count": 0,
      "outputs": []
    },
    {
      "cell_type": "code",
      "metadata": {
        "id": "JJ8b2ekYC2or",
        "colab_type": "code",
        "colab": {
          "base_uri": "https://localhost:8080/",
          "height": 34
        },
        "outputId": "d291c1b8-d868-450d-b44e-fd7fc3f96df4"
      },
      "source": [
        "myreduce(sub,[1,2,3,4,5])"
      ],
      "execution_count": 5,
      "outputs": [
        {
          "output_type": "execute_result",
          "data": {
            "text/plain": [
              "-13"
            ]
          },
          "metadata": {
            "tags": []
          },
          "execution_count": 5
        }
      ]
    },
    {
      "cell_type": "markdown",
      "metadata": {
        "id": "No9DIVbWC7I2",
        "colab_type": "text"
      },
      "source": [
        "1.2 Write a Python program to implement your own myfilter() function which works exactly like Python's built-in function filter() "
      ]
    },
    {
      "cell_type": "code",
      "metadata": {
        "id": "jQHd1ytCC5AP",
        "colab_type": "code",
        "colab": {}
      },
      "source": [
        "def myfilter(myfunc, sequence):\n",
        "  result = []\n",
        "  for i in sequence:\n",
        "    if (myfunc(i)):\n",
        "      result.append(i)\n",
        "  return result"
      ],
      "execution_count": 0,
      "outputs": []
    },
    {
      "cell_type": "code",
      "metadata": {
        "id": "uSFtHEXtDb-e",
        "colab_type": "code",
        "colab": {}
      },
      "source": [
        "def is_even(x):\n",
        "  if(x % 2 == 0):\n",
        "    return True\n",
        "  else:\n",
        "    return False"
      ],
      "execution_count": 0,
      "outputs": []
    },
    {
      "cell_type": "code",
      "metadata": {
        "id": "E-Mjlr95Dk-o",
        "colab_type": "code",
        "colab": {
          "base_uri": "https://localhost:8080/",
          "height": 34
        },
        "outputId": "1175b0ee-bfa9-44ff-e7bd-b9066a232bd6"
      },
      "source": [
        "myfilter(is_even,[1,2,3,4,5,6])"
      ],
      "execution_count": 8,
      "outputs": [
        {
          "output_type": "execute_result",
          "data": {
            "text/plain": [
              "[2, 4, 6]"
            ]
          },
          "metadata": {
            "tags": []
          },
          "execution_count": 8
        }
      ]
    },
    {
      "cell_type": "code",
      "metadata": {
        "id": "_PUaZU9EDoj_",
        "colab_type": "code",
        "colab": {}
      },
      "source": [
        "def is_positive(x):\n",
        "  if (x < 0):\n",
        "    return False\n",
        "  else:\n",
        "    return True"
      ],
      "execution_count": 0,
      "outputs": []
    },
    {
      "cell_type": "code",
      "metadata": {
        "id": "nCbGPpKtD94T",
        "colab_type": "code",
        "colab": {
          "base_uri": "https://localhost:8080/",
          "height": 34
        },
        "outputId": "3bb9dd9d-d10d-4717-daf4-0dd3a350d7ca"
      },
      "source": [
        "myfilter(is_positive,[1,2,-3,-2,4,-5])"
      ],
      "execution_count": 10,
      "outputs": [
        {
          "output_type": "execute_result",
          "data": {
            "text/plain": [
              "[1, 2, 4]"
            ]
          },
          "metadata": {
            "tags": []
          },
          "execution_count": 10
        }
      ]
    },
    {
      "cell_type": "markdown",
      "metadata": {
        "id": "XkY0oEC0IgbP",
        "colab_type": "text"
      },
      "source": [
        "2. Implement List comprehensions to produce the following lists. \n",
        "\n",
        "Write List comprehensions to produce the following Lists \n",
        "\n",
        "  ['A', 'C', 'A', 'D', 'G', 'I', ’L’, ‘ D’] "
      ]
    },
    {
      "cell_type": "code",
      "metadata": {
        "id": "Im2LfRzPEDSP",
        "colab_type": "code",
        "colab": {
          "base_uri": "https://localhost:8080/",
          "height": 34
        },
        "outputId": "ae6dbf83-1375-41f9-bf5d-a282d1587e2a"
      },
      "source": [
        "word = \"ACADGILD\"\n",
        "lst =[]\n",
        "for i in word:\n",
        "  lst.append(i)\n",
        "print(lst)\n"
      ],
      "execution_count": 11,
      "outputs": [
        {
          "output_type": "stream",
          "text": [
            "['A', 'C', 'A', 'D', 'G', 'I', 'L', 'D']\n"
          ],
          "name": "stdout"
        }
      ]
    },
    {
      "cell_type": "markdown",
      "metadata": {
        "id": "N9AKaBI9Jbfz",
        "colab_type": "text"
      },
      "source": [
        "Write List comprehensions to produce the following List\n",
        "\n",
        "['x', 'xx', 'xxx', 'xxxx', 'y', 'yy', 'yyy', 'yyyy', 'z', 'zz', 'zzz', 'zzzz'] \n"
      ]
    },
    {
      "cell_type": "code",
      "metadata": {
        "id": "iHHJRwVnJZLS",
        "colab_type": "code",
        "colab": {
          "base_uri": "https://localhost:8080/",
          "height": 34
        },
        "outputId": "0429d537-9c50-416e-f570-2eff3793d880"
      },
      "source": [
        "input_txt = ['x','y','z']\n",
        "output = []\n",
        "for i in input_txt:\n",
        "  for j in range(1,5):\n",
        "    output.append(i*j)\n",
        "print(output)"
      ],
      "execution_count": 12,
      "outputs": [
        {
          "output_type": "stream",
          "text": [
            "['x', 'xx', 'xxx', 'xxxx', 'y', 'yy', 'yyy', 'yyyy', 'z', 'zz', 'zzz', 'zzzz']\n"
          ],
          "name": "stdout"
        }
      ]
    },
    {
      "cell_type": "markdown",
      "metadata": {
        "id": "hoWrI9hvJ-wa",
        "colab_type": "text"
      },
      "source": [
        "Write List comprehensions to produce the following List\n",
        "\n",
        "['x', 'y', 'z', 'xx', 'yy', 'zz', 'xxx', 'yyy', 'zzz', 'xxxx', 'yyyy', 'zzzz'] \n"
      ]
    },
    {
      "cell_type": "code",
      "metadata": {
        "id": "uiIdFgXuJ67p",
        "colab_type": "code",
        "colab": {
          "base_uri": "https://localhost:8080/",
          "height": 34
        },
        "outputId": "d594badc-fc6e-4f82-9d34-b43b11fe1241"
      },
      "source": [
        "input_txt = ['x','y','z']\n",
        "output = []\n",
        "for i in range(1,5):\n",
        "  for j in input_txt:\n",
        "    output.append(i*j)\n",
        "print(output)"
      ],
      "execution_count": 13,
      "outputs": [
        {
          "output_type": "stream",
          "text": [
            "['x', 'y', 'z', 'xx', 'yy', 'zz', 'xxx', 'yyy', 'zzz', 'xxxx', 'yyyy', 'zzzz']\n"
          ],
          "name": "stdout"
        }
      ]
    },
    {
      "cell_type": "markdown",
      "metadata": {
        "id": "kQDMdOIsQuHc",
        "colab_type": "text"
      },
      "source": [
        "Write List comprehensions to produce the following Lists \n",
        "\n",
        "[[2], [3], [4], [3], [4], [5], [4], [5], [6]]"
      ]
    },
    {
      "cell_type": "code",
      "metadata": {
        "id": "5zD0s1sFKNwr",
        "colab_type": "code",
        "colab": {
          "base_uri": "https://localhost:8080/",
          "height": 34
        },
        "outputId": "84e771b8-7bec-4afb-9da6-ffb79d7e8b23"
      },
      "source": [
        "input_list = [2,3,4]\n",
        "output=[]\n",
        "for i in input_list:\n",
        "  for j in range(0,3):\n",
        "    output.append([i+j])\n",
        "print(output)"
      ],
      "execution_count": 14,
      "outputs": [
        {
          "output_type": "stream",
          "text": [
            "[[2], [3], [4], [3], [4], [5], [4], [5], [6]]\n"
          ],
          "name": "stdout"
        }
      ]
    },
    {
      "cell_type": "markdown",
      "metadata": {
        "id": "MobEKcWxQ6Or",
        "colab_type": "text"
      },
      "source": [
        "Write List comprehensions to produce the following Lists\n",
        "\n",
        "[2, 3, 4, 5], [3, 4, 5, 6],[4, 5, 6, 7], [5, 6, 7, 8]] \n"
      ]
    },
    {
      "cell_type": "code",
      "metadata": {
        "id": "YVZhiQTkQ258",
        "colab_type": "code",
        "colab": {
          "base_uri": "https://localhost:8080/",
          "height": 34
        },
        "outputId": "09f5d42c-c824-4216-ef7f-8a1ee4dfea05"
      },
      "source": [
        "input_list = [2,3,4,5]\n",
        "result = [[i+j for i in input_list] for j in range(0,4) ]\n",
        "print(result)"
      ],
      "execution_count": 15,
      "outputs": [
        {
          "output_type": "stream",
          "text": [
            "[[2, 3, 4, 5], [3, 4, 5, 6], [4, 5, 6, 7], [5, 6, 7, 8]]\n"
          ],
          "name": "stdout"
        }
      ]
    },
    {
      "cell_type": "markdown",
      "metadata": {
        "id": "jFPnmJFTdPbm",
        "colab_type": "text"
      },
      "source": [
        "Write List comprehensions to produce the following Lists\n",
        "\n",
        "[(1, 1), (2, 1), (3, 1), (1, 2), (2, 2), (3, 2), (1, 3), (2, 3), (3, 3)] \n"
      ]
    },
    {
      "cell_type": "code",
      "metadata": {
        "id": "rLB4V8qWdK_X",
        "colab_type": "code",
        "colab": {
          "base_uri": "https://localhost:8080/",
          "height": 34
        },
        "outputId": "b731a9f4-56d3-4ba4-a990-24af8ac9ca2e"
      },
      "source": [
        "input_list=[1,2,3]\n",
        "output = []\n",
        "for i in input_list:\n",
        "  for j in input_list:\n",
        "    output.append((j,i))\n",
        "print(output)"
      ],
      "execution_count": 16,
      "outputs": [
        {
          "output_type": "stream",
          "text": [
            "[(1, 1), (2, 1), (3, 1), (1, 2), (2, 2), (3, 2), (1, 3), (2, 3), (3, 3)]\n"
          ],
          "name": "stdout"
        }
      ]
    },
    {
      "cell_type": "code",
      "metadata": {
        "id": "wht0TVd5eH-J",
        "colab_type": "code",
        "colab": {}
      },
      "source": [
        ""
      ],
      "execution_count": 0,
      "outputs": []
    }
  ]
}