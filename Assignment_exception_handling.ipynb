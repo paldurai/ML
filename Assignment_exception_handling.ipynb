{
  "nbformat": 4,
  "nbformat_minor": 0,
  "metadata": {
    "colab": {
      "name": "Assignment exception handling.ipynb",
      "provenance": [],
      "collapsed_sections": []
    },
    "kernelspec": {
      "name": "python3",
      "display_name": "Python 3"
    }
  },
  "cells": [
    {
      "cell_type": "markdown",
      "metadata": {
        "id": "0Ke2SrkD2Iod",
        "colab_type": "text"
      },
      "source": [
        "1. Write a function to compute 5/0 and use try/except to catch the exceptions. \n"
      ]
    },
    {
      "cell_type": "code",
      "metadata": {
        "id": "0oC7tYz-2Doz",
        "colab_type": "code",
        "colab": {}
      },
      "source": [
        "def divide():\n",
        "  return 5/0"
      ],
      "execution_count": 0,
      "outputs": []
    },
    {
      "cell_type": "code",
      "metadata": {
        "id": "2p3kR3-32ODy",
        "colab_type": "code",
        "colab": {
          "base_uri": "https://localhost:8080/",
          "height": 34
        },
        "outputId": "acad2e8e-7990-4019-b364-2f57e7bb88e1"
      },
      "source": [
        "try:\n",
        "  divide()\n",
        "except:\n",
        "  print(\"Any numeric value Cannot divide by zero\")"
      ],
      "execution_count": 2,
      "outputs": [
        {
          "output_type": "stream",
          "text": [
            "Any numeric value Cannot divide by zero\n"
          ],
          "name": "stdout"
        }
      ]
    },
    {
      "cell_type": "markdown",
      "metadata": {
        "id": "NXabXXUC2Xcp",
        "colab_type": "text"
      },
      "source": [
        "2. Implement a Python program to generate all sentences where subject is in [\"Americans\", \"Indians\"] and verb is in [\"Play\", \"watch\"] and the object is in [\"Baseball\",\"cricket\"]. \n",
        "\n",
        "  Hint: Subject,Verb and Object should be declared in the program as shown below. \n",
        "subjects=[\"Americans \",\"Indians\"] verbs=[\"play\",\"watch\"] objects=[\"Baseball\",\"Cricket\"] \n"
      ]
    },
    {
      "cell_type": "code",
      "metadata": {
        "id": "IGoFJmlt2Sn9",
        "colab_type": "code",
        "colab": {}
      },
      "source": [
        "subject=[\"Americans\", \"Indians\"]\n",
        "verb=[\"Play\", \"watch\"]\n",
        "obj=[\"Baseball\",\"cricket\"]"
      ],
      "execution_count": 0,
      "outputs": []
    },
    {
      "cell_type": "code",
      "metadata": {
        "id": "I8rwha0G3N4s",
        "colab_type": "code",
        "colab": {
          "base_uri": "https://localhost:8080/",
          "height": 153
        },
        "outputId": "2be0b357-0704-465a-b245-d55d8b97f73c"
      },
      "source": [
        "sentence_list = [(sub+\" \"+vb+\" \"+ob)for sub in subject for vb in verb for ob in obj]\n",
        "for sentence in sentence_list:\n",
        "  print(sentence)"
      ],
      "execution_count": 4,
      "outputs": [
        {
          "output_type": "stream",
          "text": [
            "Americans Play Baseball\n",
            "Americans Play cricket\n",
            "Americans watch Baseball\n",
            "Americans watch cricket\n",
            "Indians Play Baseball\n",
            "Indians Play cricket\n",
            "Indians watch Baseball\n",
            "Indians watch cricket\n"
          ],
          "name": "stdout"
        }
      ]
    },
    {
      "cell_type": "code",
      "metadata": {
        "id": "Q1tFftnA3QHt",
        "colab_type": "code",
        "colab": {}
      },
      "source": [
        ""
      ],
      "execution_count": 0,
      "outputs": []
    }
  ]
}