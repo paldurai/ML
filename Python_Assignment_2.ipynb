{
  "nbformat": 4,
  "nbformat_minor": 0,
  "metadata": {
    "colab": {
      "name": "Python Assignment 2.ipynb",
      "provenance": []
    },
    "kernelspec": {
      "name": "python3",
      "display_name": "Python 3"
    }
  },
  "cells": [
    {
      "cell_type": "markdown",
      "metadata": {
        "id": "493_PrNIkEPf",
        "colab_type": "text"
      },
      "source": [
        "# Assignment Program 1:\n",
        "  Write a Python program to construct the following pattern, using a nested for loop.\n",
        "\n",
        "* \n",
        "* * \n",
        "* * * \n",
        "* * * * \n",
        "* * * * * \n",
        "* * * * \n",
        "* * * \n",
        "* * \n",
        "*"
      ]
    },
    {
      "cell_type": "code",
      "metadata": {
        "id": "pK_XZLlSkAQh",
        "colab_type": "code",
        "colab": {
          "base_uri": "https://localhost:8080/",
          "height": 187
        },
        "outputId": "1c746048-4199-474f-8c86-fa378f663c80"
      },
      "source": [
        "n=5;\n",
        "for i in range(n):\n",
        "  for j in range(i):\n",
        "    print(\"*\",end=\"\")\n",
        "  print('')\n",
        "\n",
        "for i in range(n,0,-1):\n",
        "  for j in range(i):\n",
        "    print(\"*\",end=\"\")\n",
        "  print('')"
      ],
      "execution_count": 3,
      "outputs": [
        {
          "output_type": "stream",
          "text": [
            "\n",
            "*\n",
            "**\n",
            "***\n",
            "****\n",
            "*****\n",
            "****\n",
            "***\n",
            "**\n",
            "*\n"
          ],
          "name": "stdout"
        }
      ]
    },
    {
      "cell_type": "markdown",
      "metadata": {
        "id": "cL46ojAIk929",
        "colab_type": "text"
      },
      "source": [
        "# Assignment Program 2:\n",
        " Write a Python program to reverse a word after accepting the input from the user. Sample Output: Input word: Ineuron Output: noruenI"
      ]
    },
    {
      "cell_type": "code",
      "metadata": {
        "id": "PGpuaQLGlIs5",
        "colab_type": "code",
        "colab": {
          "base_uri": "https://localhost:8080/",
          "height": 51
        },
        "outputId": "a20b0078-13ab-4cc6-8419-737fbf6e26e7"
      },
      "source": [
        "Word = input(\"Enter Input to print in reverse:\")\n",
        "for i in range(len(Word)-1,-1,-1):\n",
        "  print(Word[i],end=\"\")\n",
        "print('')"
      ],
      "execution_count": 5,
      "outputs": [
        {
          "output_type": "stream",
          "text": [
            "Enter Input to print in reverse:Ineuron\n",
            "noruenI\n"
          ],
          "name": "stdout"
        }
      ]
    }
  ]
}